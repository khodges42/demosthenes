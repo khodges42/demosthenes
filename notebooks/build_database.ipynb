{
 "cells": [
  {
   "cell_type": "code",
   "execution_count": 1,
   "metadata": {},
   "outputs": [],
   "source": [
    "import json\n",
    "import pandas as pd\n",
    "import os\n",
    "\n",
    "\n"
   ]
  },
  {
   "cell_type": "code",
   "execution_count": 2,
   "metadata": {},
   "outputs": [],
   "source": [
    "def read_vuln_json(vuln_dir='data/vuln/json/', data = {}):\n",
    "    for filename in os.listdir(vuln_dir):\n",
    "        with open(vuln_dir+filename) as f:\n",
    "            data.update(json.load(f))\n",
    "    return data\n",
    "\n",
    "def parse_cve_json(cve_data,columns=['CVE','vendor','product','version'], save_loc=\"data/vuln/data.pkl\"):\n",
    "    df = pd.DataFrame(columns=['CVE','vendor','product','version'])\n",
    "    for item in cve_data[\"CVE_Items\"]:\n",
    "        CVE = item[\"cve\"]['CVE_data_meta']['ID']\n",
    "        try:\n",
    "            for vendor in item['cve']['affects']['vendor']['vendor_data']:\n",
    "                vendor_name = vendor['vendor_name']\n",
    "                for product in vendor['product']['product_data']:\n",
    "                    product_name = product['product_name']\n",
    "                    versions = [x['version_value'] for x in product['version']['version_data']]\n",
    "\n",
    "                    new_df = pd.DataFrame([[CVE,vendor_name,product_name,versions]],\n",
    "                                              columns=['CVE','vendor','product','version'])\n",
    "                    df = df.append(new_df, ignore_index=True)           \n",
    "        except IndexError:\n",
    "            pass\n",
    "    if save_loc:\n",
    "        save_vuln_data(save_loc)\n",
    "    return df\n",
    "\n",
    "\n",
    "def save_vuln_data(df = None, save_loc = \"data/vuln/data.pkl\"):\n",
    "    if not df:\n",
    "        cve_data = read_vuln_json()\n",
    "        df = parse_cve_json(cve_data)\n",
    "    return df.to_pickle(\"data/vuln/data.pkl\")\n",
    "\n",
    "\n",
    "def load_vuln_data():\n",
    "    try:\n",
    "        return pd.read_pickle(\"data/vuln/data.pkl\")\n",
    "    except:\n",
    "        save_vuln_data() #force a load/parse/save\n",
    "        return pd.read_pickle(\"data/vuln/data.pkl\")\n",
    "        "
   ]
  },
  {
   "cell_type": "code",
   "execution_count": 3,
   "metadata": {},
   "outputs": [],
   "source": [
    "#data_df = parse_cve_json(read_vuln_json())\n",
    "#print(data_df.dtypes)\n",
    "\n",
    "data = load_vuln_data()"
   ]
  },
  {
   "cell_type": "code",
   "execution_count": 5,
   "metadata": {},
   "outputs": [
    {
     "data": {
      "text/plain": [
       "1301"
      ]
     },
     "execution_count": 5,
     "metadata": {},
     "output_type": "execute_result"
    }
   ],
   "source": [
    "vendors = data.vendor.sort_values().unique()\n",
    "products = data['product'].sort_values().unique()\n",
    "\n",
    "len(vendors)"
   ]
  },
  {
   "cell_type": "code",
   "execution_count": 18,
   "metadata": {},
   "outputs": [],
   "source": [
    "from neo4j.v1 import GraphDatabase\n",
    "\n",
    "driver = GraphDatabase.driver(\"bolt://127.0.0.1:7687\", auth=(\"neo4j\", \"Sn0wcrash\"))\n",
    "\n",
    "\n",
    "def drop_nodes(tx):\n",
    "    tx.run(\"MATCH (n) DETACH DELETE n\")\n",
    "\n",
    "def add_node(tx, item, node_type):\n",
    "    query_string = \"MERGE (a:{} \".format(node_type)\n",
    "    query_string+=\"{name: $name})\"\n",
    "    tx.run(query_string, name=item)\n",
    "    #tx.run(\"MERGE (a:product {name: $name, vendor: $vend})\",\n",
    "     #      name=pdct, vend=vend)\n",
    "    \n",
    "def add_vendor(tx, pdct, vend):\n",
    "    pass\n",
    "    #tx.run(\"MERGE (a:product {name: $name, vendor: $vend})\",\n",
    "       #    name=pdct, vend=vend)\n",
    "    \n",
    "def add_version(tx, item, version, pdct):\n",
    "    query_string = \"MERGE (a:version {name: $name, version:$version, product: $pdct})\"\n",
    "    tx.run(query_string, name=item, version=version, pdct=pdct)\n",
    "    #tx.run(\"MERGE (a:product {name: $name, vendor: $vend})\",\n",
    "          # name=pdct, vend=vend)\n",
    "\n",
    "    \n",
    "def add_vendor_relation(tx, pdct, vend):\n",
    "    query_string = \"MATCH (a:vendor {name: $value1}),\"\\\n",
    "                    \"(b:product {name: $value2})\"\\\n",
    "                    \"MERGE (a)-[r:MAKES]->(b)\"\n",
    "    tx.run(query_string,value1=vend, value2=pdct)\n",
    "    \n",
    "def add_version_relation(tx, version_name, version, pdct):\n",
    "    query_string = \"MATCH (a:version {name: $value1, version:$version}),\"\\\n",
    "                    \"(b:product {name: $value2})\"\\\n",
    "                    \"MERGE (a)-[r:VERSION_OF]->(b)\"\n",
    "    tx.run(query_string,value1=version_name, value2=pdct, version=version)\n",
    "    \n",
    "    \n",
    "def add_cve_relation(tx, version_name, version, pdct, cve):\n",
    "    query_string = \"MATCH (a:CVE {name: $cve}),\"\\\n",
    "                    \"(b:version {name: $version_name, version:$version, product: $pdct})\"\\\n",
    "                    \"MERGE (a)-[r:AFFECTS]->(b)\"\n",
    "    #query_string= \"MATCH (a:cve),(b:product)\"\\\n",
    "    #               \"WHERE a.name = $cve AND a.product = $product AND b.name = $version\"\\\n",
    "    #                \"CREATE (a)-[r:RELTYPE]->(b)\"\n",
    "    tx.run(query_string,cve=cve,version_name=version_name, version=version, pdct=pdct)\n",
    "    #tx.run(\"MERGE (a:CVE {name: $name}) \"\n",
    "       #    \"MERGE (a)-[:AFFECTS]->(version:Version {version: $version}) WITH version.product = $product\",\n",
    "       #    name=CVE, version=vsn, product=pdct)\n",
    "def log_progress(sequence, every=None, size=None, name='Items'):\n",
    "    from ipywidgets import IntProgress, HTML, VBox\n",
    "    from IPython.display import display\n",
    "\n",
    "    is_iterator = False\n",
    "    if size is None:\n",
    "        try:\n",
    "            size = len(sequence)\n",
    "        except TypeError:\n",
    "            is_iterator = True\n",
    "    if size is not None:\n",
    "        if every is None:\n",
    "            if size <= 200:\n",
    "                every = 1\n",
    "            else:\n",
    "                every = int(size / 200)     # every 0.5%\n",
    "    else:\n",
    "        assert every is not None, 'sequence is iterator, set every'\n",
    "\n",
    "    if is_iterator:\n",
    "        progress = IntProgress(min=0, max=1, value=1)\n",
    "        progress.bar_style = 'info'\n",
    "    else:\n",
    "        progress = IntProgress(min=0, max=size, value=0)\n",
    "    label = HTML()\n",
    "    box = VBox(children=[label, progress])\n",
    "    display(box)\n",
    "\n",
    "    index = 0\n",
    "    try:\n",
    "        for index, record in enumerate(sequence, 1):\n",
    "            if index == 1 or index % every == 0:\n",
    "                if is_iterator:\n",
    "                    label.value = '{name}: {index} / ?'.format(\n",
    "                        name=name,\n",
    "                        index=index\n",
    "                    )\n",
    "                else:\n",
    "                    progress.value = index\n",
    "                    label.value = u'{name}: {index} / {size}'.format(\n",
    "                        name=name,\n",
    "                        index=index,\n",
    "                        size=size\n",
    "                    )\n",
    "            yield record\n",
    "    except:\n",
    "        progress.bar_style = 'danger'\n",
    "        raise\n",
    "    else:\n",
    "        progress.bar_style = 'success'\n",
    "        progress.value = index\n",
    "        label.value = \"{name}: {index}\".format(\n",
    "            name=name,\n",
    "            index=str(index or '?')\n",
    "        )\n"
   ]
  },
  {
   "cell_type": "code",
   "execution_count": 43,
   "metadata": {},
   "outputs": [],
   "source": [
    "def populate_db():\n",
    "    vendors = data.vendor.sort_values().unique()\n",
    "    products = data['product'].sort_values().unique()\n",
    "    print(mini_df)\n",
    "    with driver.session() as session:\n",
    "        session.write_transaction(drop_nodes)\n",
    "        for vendor in log_progress(vendors):\n",
    "            session.write_transaction(add_node, vendor, \"vendor\")\n",
    "        for product in log_progress(products):\n",
    "            session.write_transaction(add_node, product, \"product\")\n",
    "        for k,item in log_progress(iter(data.iterrows()), every=1):\n",
    "\n",
    "            session.write_transaction(add_vendor_relation, item[\"product\"], item[\"vendor\"])\n",
    "            session.write_transaction(add_node, item[\"CVE\"], \"CVE\")\n",
    "            for version in item['version']:\n",
    "                version_name = version+item[\"product\"]\n",
    "                session.write_transaction(add_version, version_name, version, item[\"product\"])\n",
    "                session.write_transaction(add_version_relation, version_name, version, item[\"product\"])\n",
    "                session.write_transaction(add_cve_relation, version_name, version, item[\"product\"], \n",
    "                                          item[\"CVE\"])\n",
    "    \n",
    "def add_exploit_node(tx, category, module, cve):\n",
    "    query_string = \"MERGE (a:exploit {name: $name, category:$category, cve:$cve})\"\n",
    "    tx.run(query_string, name=module, category=category, cve=cve)\n",
    "    \n",
    "def add_exploit_relation(tx, cve):\n",
    "    query_string = \"MATCH (a:CVE {name: $cve}),\"\\\n",
    "                    \"(b:exploit {cve: $cve})\"\\\n",
    "                    \"MERGE (b)-[r:EXPLOITS]->(a)\"\n",
    "    tx.run(query_string,cve=cve)\n",
    "    \n",
    "def load_db_exploit_nodes(exploits_json=\"data/exploit/data.json\"):\n",
    "    with open(exploits_json) as f:\n",
    "        exploits=json.load(f)\n",
    "    with driver.session() as session:\n",
    "        for cve,data in exploits.items():\n",
    "            for category,module in data.items():\n",
    "                session.write_transaction(add_exploit_node, category, module, cve)\n",
    "                \n",
    "def load_db_exploit_relations(exploits_json=\"data/exploit/data.json\"):  \n",
    "    with open(exploits_json) as f:\n",
    "        exploits=json.load(f)\n",
    "    with driver.session() as session:\n",
    "        for cve,data in exploits.items():\n",
    "            session.write_transaction(add_exploit_relation, cve)\n",
    "\n",
    "                \n",
    "\n",
    "load_db_exploit_nodes()\n",
    "load_db_exploit_relations()"
   ]
  },
  {
   "cell_type": "code",
   "execution_count": 39,
   "metadata": {},
   "outputs": [
    {
     "data": {
      "text/plain": [
       "3090"
      ]
     },
     "execution_count": 39,
     "metadata": {},
     "output_type": "execute_result"
    }
   ],
   "source": [
    "products = data['product'].sort_values().unique()\n",
    "len(products)"
   ]
  },
  {
   "cell_type": "code",
   "execution_count": 45,
   "metadata": {},
   "outputs": [
    {
     "name": "stdout",
     "output_type": "stream",
     "text": [
      "microsoft\n",
      "microsoft\n",
      "microsoft\n",
      "microsoft\n",
      "microsoft\n",
      "microsoft\n",
      "microsoft\n",
      "microsoft\n",
      "microsoft\n",
      "microsoft\n"
     ]
    }
   ],
   "source": [
    "for k,item in mini_df.iterrows():\n",
    "    print(item['vendor'])"
   ]
  },
  {
   "cell_type": "code",
   "execution_count": 64,
   "metadata": {},
   "outputs": [
    {
     "name": "stderr",
     "output_type": "stream",
     "text": [
      "Exception ignored in: 'neo4j.bolt._io.ChunkedInputBuffer.receive'\n",
      "Traceback (most recent call last):\n",
      "  File \"/home/khodges@corp.reliaquest.com/miniconda3/envs/wm/lib/python3.6/ssl.py\", line 1009, in recv_into\n",
      "    return self.read(nbytes, buffer)\n",
      "  File \"/home/khodges@corp.reliaquest.com/miniconda3/envs/wm/lib/python3.6/ssl.py\", line 871, in read\n",
      "    return self._sslobj.read(len, buffer)\n",
      "  File \"/home/khodges@corp.reliaquest.com/miniconda3/envs/wm/lib/python3.6/ssl.py\", line 631, in read\n",
      "    v = self._sslobj.read(len, buffer)\n",
      "KeyboardInterrupt: \n"
     ]
    },
    {
     "ename": "ServiceUnavailable",
     "evalue": "Failed to write to closed connection Address(host='127.0.0.1', port=7687)",
     "output_type": "error",
     "traceback": [
      "\u001b[0;31m-------------------------\u001b[0m",
      "\u001b[0;31mKeyboardInterrupt\u001b[0mTraceback (most recent call last)",
      "\u001b[0;32m<ipython-input-64-ee57830b868b>\u001b[0m in \u001b[0;36m<module>\u001b[0;34m()\u001b[0m\n\u001b[1;32m      3\u001b[0m         \u001b[0;32mfor\u001b[0m \u001b[0mversion\u001b[0m \u001b[0;32min\u001b[0m \u001b[0mitem\u001b[0m\u001b[0;34m[\u001b[0m\u001b[0;34m'version'\u001b[0m\u001b[0;34m]\u001b[0m\u001b[0;34m:\u001b[0m\u001b[0;34m\u001b[0m\u001b[0m\n\u001b[0;32m----> 4\u001b[0;31m             \u001b[0msession\u001b[0m\u001b[0;34m.\u001b[0m\u001b[0mwrite_transaction\u001b[0m\u001b[0;34m(\u001b[0m\u001b[0madd_cve_relation\u001b[0m\u001b[0;34m,\u001b[0m \u001b[0mversion\u001b[0m\u001b[0;34m,\u001b[0m \u001b[0mitem\u001b[0m\u001b[0;34m[\u001b[0m\u001b[0;34m\"product\"\u001b[0m\u001b[0;34m]\u001b[0m\u001b[0;34m,\u001b[0m \u001b[0mitem\u001b[0m\u001b[0;34m[\u001b[0m\u001b[0;34m\"CVE\"\u001b[0m\u001b[0;34m]\u001b[0m\u001b[0;34m)\u001b[0m\u001b[0;34m\u001b[0m\u001b[0m\n\u001b[0m\u001b[1;32m      5\u001b[0m \u001b[0;34m\u001b[0m\u001b[0m\n",
      "\u001b[0;32m~/miniconda3/envs/wm/lib/python3.6/site-packages/neo4j/v1/api.py\u001b[0m in \u001b[0;36mwrite_transaction\u001b[0;34m(self, unit_of_work, *args, **kwargs)\u001b[0m\n\u001b[1;32m    449\u001b[0m     \u001b[0;32mdef\u001b[0m \u001b[0mwrite_transaction\u001b[0m\u001b[0;34m(\u001b[0m\u001b[0mself\u001b[0m\u001b[0;34m,\u001b[0m \u001b[0munit_of_work\u001b[0m\u001b[0;34m,\u001b[0m \u001b[0;34m*\u001b[0m\u001b[0margs\u001b[0m\u001b[0;34m,\u001b[0m \u001b[0;34m**\u001b[0m\u001b[0mkwargs\u001b[0m\u001b[0;34m)\u001b[0m\u001b[0;34m:\u001b[0m\u001b[0;34m\u001b[0m\u001b[0m\n\u001b[0;32m--> 450\u001b[0;31m         \u001b[0;32mreturn\u001b[0m \u001b[0mself\u001b[0m\u001b[0;34m.\u001b[0m\u001b[0m_run_transaction\u001b[0m\u001b[0;34m(\u001b[0m\u001b[0mWRITE_ACCESS\u001b[0m\u001b[0;34m,\u001b[0m \u001b[0munit_of_work\u001b[0m\u001b[0;34m,\u001b[0m \u001b[0;34m*\u001b[0m\u001b[0margs\u001b[0m\u001b[0;34m,\u001b[0m \u001b[0;34m**\u001b[0m\u001b[0mkwargs\u001b[0m\u001b[0;34m)\u001b[0m\u001b[0;34m\u001b[0m\u001b[0m\n\u001b[0m\u001b[1;32m    451\u001b[0m \u001b[0;34m\u001b[0m\u001b[0m\n",
      "\u001b[0;32m~/miniconda3/envs/wm/lib/python3.6/site-packages/neo4j/v1/api.py\u001b[0m in \u001b[0;36m_run_transaction\u001b[0;34m(self, access_mode, unit_of_work, *args, **kwargs)\u001b[0m\n\u001b[1;32m    442\u001b[0m                 \u001b[0;32mbreak\u001b[0m\u001b[0;34m\u001b[0m\u001b[0m\n\u001b[0;32m--> 443\u001b[0;31m             \u001b[0msleep\u001b[0m\u001b[0;34m(\u001b[0m\u001b[0mnext\u001b[0m\u001b[0;34m(\u001b[0m\u001b[0mretry_delay\u001b[0m\u001b[0;34m)\u001b[0m\u001b[0;34m)\u001b[0m\u001b[0;34m\u001b[0m\u001b[0m\n\u001b[0m\u001b[1;32m    444\u001b[0m         \u001b[0;32mraise\u001b[0m \u001b[0mlast_error\u001b[0m\u001b[0;34m\u001b[0m\u001b[0m\n",
      "\u001b[0;31mKeyboardInterrupt\u001b[0m: ",
      "\nDuring handling of the above exception, another exception occurred:\n",
      "\u001b[0;31mServiceUnavailable\u001b[0mTraceback (most recent call last)",
      "\u001b[0;32m<ipython-input-64-ee57830b868b>\u001b[0m in \u001b[0;36m<module>\u001b[0;34m()\u001b[0m\n\u001b[1;32m      2\u001b[0m     \u001b[0;32mfor\u001b[0m \u001b[0mk\u001b[0m\u001b[0;34m,\u001b[0m\u001b[0mitem\u001b[0m \u001b[0;32min\u001b[0m \u001b[0mdata\u001b[0m\u001b[0;34m.\u001b[0m\u001b[0miterrows\u001b[0m\u001b[0;34m(\u001b[0m\u001b[0;34m)\u001b[0m\u001b[0;34m:\u001b[0m\u001b[0;34m\u001b[0m\u001b[0m\n\u001b[1;32m      3\u001b[0m         \u001b[0;32mfor\u001b[0m \u001b[0mversion\u001b[0m \u001b[0;32min\u001b[0m \u001b[0mitem\u001b[0m\u001b[0;34m[\u001b[0m\u001b[0;34m'version'\u001b[0m\u001b[0;34m]\u001b[0m\u001b[0;34m:\u001b[0m\u001b[0;34m\u001b[0m\u001b[0m\n\u001b[0;32m----> 4\u001b[0;31m             \u001b[0msession\u001b[0m\u001b[0;34m.\u001b[0m\u001b[0mwrite_transaction\u001b[0m\u001b[0;34m(\u001b[0m\u001b[0madd_cve_relation\u001b[0m\u001b[0;34m,\u001b[0m \u001b[0mversion\u001b[0m\u001b[0;34m,\u001b[0m \u001b[0mitem\u001b[0m\u001b[0;34m[\u001b[0m\u001b[0;34m\"product\"\u001b[0m\u001b[0;34m]\u001b[0m\u001b[0;34m,\u001b[0m \u001b[0mitem\u001b[0m\u001b[0;34m[\u001b[0m\u001b[0;34m\"CVE\"\u001b[0m\u001b[0;34m]\u001b[0m\u001b[0;34m)\u001b[0m\u001b[0;34m\u001b[0m\u001b[0m\n\u001b[0m\u001b[1;32m      5\u001b[0m \u001b[0;34m\u001b[0m\u001b[0m\n",
      "\u001b[0;32m~/miniconda3/envs/wm/lib/python3.6/site-packages/neo4j/v1/api.py\u001b[0m in \u001b[0;36m__exit__\u001b[0;34m(self, exc_type, exc_value, traceback)\u001b[0m\n\u001b[1;32m    224\u001b[0m \u001b[0;34m\u001b[0m\u001b[0m\n\u001b[1;32m    225\u001b[0m     \u001b[0;32mdef\u001b[0m \u001b[0m__exit__\u001b[0m\u001b[0;34m(\u001b[0m\u001b[0mself\u001b[0m\u001b[0;34m,\u001b[0m \u001b[0mexc_type\u001b[0m\u001b[0;34m,\u001b[0m \u001b[0mexc_value\u001b[0m\u001b[0;34m,\u001b[0m \u001b[0mtraceback\u001b[0m\u001b[0;34m)\u001b[0m\u001b[0;34m:\u001b[0m\u001b[0;34m\u001b[0m\u001b[0m\n\u001b[0;32m--> 226\u001b[0;31m         \u001b[0mself\u001b[0m\u001b[0;34m.\u001b[0m\u001b[0mclose\u001b[0m\u001b[0;34m(\u001b[0m\u001b[0;34m)\u001b[0m\u001b[0;34m\u001b[0m\u001b[0m\n\u001b[0m\u001b[1;32m    227\u001b[0m \u001b[0;34m\u001b[0m\u001b[0m\n\u001b[1;32m    228\u001b[0m     \u001b[0;32mdef\u001b[0m \u001b[0m_connect\u001b[0m\u001b[0;34m(\u001b[0m\u001b[0mself\u001b[0m\u001b[0;34m,\u001b[0m \u001b[0maccess_mode\u001b[0m\u001b[0;34m=\u001b[0m\u001b[0;32mNone\u001b[0m\u001b[0;34m)\u001b[0m\u001b[0;34m:\u001b[0m\u001b[0;34m\u001b[0m\u001b[0m\n",
      "\u001b[0;32m~/miniconda3/envs/wm/lib/python3.6/site-packages/neo4j/v1/api.py\u001b[0m in \u001b[0;36mclose\u001b[0;34m(self)\u001b[0m\n\u001b[1;32m    257\u001b[0m         \u001b[0;32mfinally\u001b[0m\u001b[0;34m:\u001b[0m\u001b[0;34m\u001b[0m\u001b[0m\n\u001b[1;32m    258\u001b[0m             \u001b[0mself\u001b[0m\u001b[0;34m.\u001b[0m\u001b[0m_closed\u001b[0m \u001b[0;34m=\u001b[0m \u001b[0;32mTrue\u001b[0m\u001b[0;34m\u001b[0m\u001b[0m\n\u001b[0;32m--> 259\u001b[0;31m         \u001b[0mself\u001b[0m\u001b[0;34m.\u001b[0m\u001b[0m_disconnect\u001b[0m\u001b[0;34m(\u001b[0m\u001b[0msync\u001b[0m\u001b[0;34m=\u001b[0m\u001b[0;32mTrue\u001b[0m\u001b[0;34m)\u001b[0m\u001b[0;34m\u001b[0m\u001b[0m\n\u001b[0m\u001b[1;32m    260\u001b[0m \u001b[0;34m\u001b[0m\u001b[0m\n\u001b[1;32m    261\u001b[0m     \u001b[0;32mdef\u001b[0m \u001b[0mclosed\u001b[0m\u001b[0;34m(\u001b[0m\u001b[0mself\u001b[0m\u001b[0;34m)\u001b[0m\u001b[0;34m:\u001b[0m\u001b[0;34m\u001b[0m\u001b[0m\n",
      "\u001b[0;32m~/miniconda3/envs/wm/lib/python3.6/site-packages/neo4j/v1/api.py\u001b[0m in \u001b[0;36m_disconnect\u001b[0;34m(self, sync)\u001b[0m\n\u001b[1;32m    239\u001b[0m         \u001b[0;32mif\u001b[0m \u001b[0mself\u001b[0m\u001b[0;34m.\u001b[0m\u001b[0m_connection\u001b[0m\u001b[0;34m:\u001b[0m\u001b[0;34m\u001b[0m\u001b[0m\n\u001b[1;32m    240\u001b[0m             \u001b[0;32mif\u001b[0m \u001b[0msync\u001b[0m\u001b[0;34m:\u001b[0m\u001b[0;34m\u001b[0m\u001b[0m\n\u001b[0;32m--> 241\u001b[0;31m                 \u001b[0mself\u001b[0m\u001b[0;34m.\u001b[0m\u001b[0m_connection\u001b[0m\u001b[0;34m.\u001b[0m\u001b[0msync\u001b[0m\u001b[0;34m(\u001b[0m\u001b[0;34m)\u001b[0m\u001b[0;34m\u001b[0m\u001b[0m\n\u001b[0m\u001b[1;32m    242\u001b[0m             \u001b[0;32mif\u001b[0m \u001b[0mself\u001b[0m\u001b[0;34m.\u001b[0m\u001b[0m_connection\u001b[0m\u001b[0;34m:\u001b[0m\u001b[0;34m\u001b[0m\u001b[0m\n\u001b[1;32m    243\u001b[0m                 \u001b[0mself\u001b[0m\u001b[0;34m.\u001b[0m\u001b[0m_connection\u001b[0m\u001b[0;34m.\u001b[0m\u001b[0min_use\u001b[0m \u001b[0;34m=\u001b[0m \u001b[0;32mFalse\u001b[0m\u001b[0;34m\u001b[0m\u001b[0m\n",
      "\u001b[0;32m~/miniconda3/envs/wm/lib/python3.6/site-packages/neo4j/bolt/connection.py\u001b[0m in \u001b[0;36msync\u001b[0;34m(self)\u001b[0m\n\u001b[1;32m    322\u001b[0m         \u001b[0;34m:\u001b[0m\u001b[0;32mreturn\u001b[0m\u001b[0;34m:\u001b[0m \u001b[0;36m2\u001b[0m\u001b[0;34m-\u001b[0m\u001b[0mtuple\u001b[0m \u001b[0mof\u001b[0m \u001b[0mnumber\u001b[0m \u001b[0mof\u001b[0m \u001b[0mdetail\u001b[0m \u001b[0mmessages\u001b[0m \u001b[0;32mand\u001b[0m \u001b[0mnumber\u001b[0m \u001b[0mof\u001b[0m \u001b[0msummary\u001b[0m \u001b[0mmessages\u001b[0m \u001b[0mfetched\u001b[0m\u001b[0;34m\u001b[0m\u001b[0m\n\u001b[1;32m    323\u001b[0m         \"\"\"\n\u001b[0;32m--> 324\u001b[0;31m         \u001b[0mself\u001b[0m\u001b[0;34m.\u001b[0m\u001b[0msend\u001b[0m\u001b[0;34m(\u001b[0m\u001b[0;34m)\u001b[0m\u001b[0;34m\u001b[0m\u001b[0m\n\u001b[0m\u001b[1;32m    325\u001b[0m         \u001b[0mdetail_count\u001b[0m \u001b[0;34m=\u001b[0m \u001b[0msummary_count\u001b[0m \u001b[0;34m=\u001b[0m \u001b[0;36m0\u001b[0m\u001b[0;34m\u001b[0m\u001b[0m\n\u001b[1;32m    326\u001b[0m         \u001b[0;32mwhile\u001b[0m \u001b[0mself\u001b[0m\u001b[0;34m.\u001b[0m\u001b[0mresponses\u001b[0m\u001b[0;34m:\u001b[0m\u001b[0;34m\u001b[0m\u001b[0m\n",
      "\u001b[0;32m~/miniconda3/envs/wm/lib/python3.6/site-packages/neo4j/bolt/connection.py\u001b[0m in \u001b[0;36msend\u001b[0;34m(self)\u001b[0m\n\u001b[1;32m    236\u001b[0m             \u001b[0;32mreturn\u001b[0m\u001b[0;34m\u001b[0m\u001b[0m\n\u001b[1;32m    237\u001b[0m         \u001b[0;32mif\u001b[0m \u001b[0mself\u001b[0m\u001b[0;34m.\u001b[0m\u001b[0mclosed\u001b[0m\u001b[0;34m(\u001b[0m\u001b[0;34m)\u001b[0m\u001b[0;34m:\u001b[0m\u001b[0;34m\u001b[0m\u001b[0m\n\u001b[0;32m--> 238\u001b[0;31m             \u001b[0;32mraise\u001b[0m \u001b[0mself\u001b[0m\u001b[0;34m.\u001b[0m\u001b[0mError\u001b[0m\u001b[0;34m(\u001b[0m\u001b[0;34m\"Failed to write to closed connection {!r}\"\u001b[0m\u001b[0;34m.\u001b[0m\u001b[0mformat\u001b[0m\u001b[0;34m(\u001b[0m\u001b[0mself\u001b[0m\u001b[0;34m.\u001b[0m\u001b[0mserver\u001b[0m\u001b[0;34m.\u001b[0m\u001b[0maddress\u001b[0m\u001b[0;34m)\u001b[0m\u001b[0;34m)\u001b[0m\u001b[0;34m\u001b[0m\u001b[0m\n\u001b[0m\u001b[1;32m    239\u001b[0m         \u001b[0;32mif\u001b[0m \u001b[0mself\u001b[0m\u001b[0;34m.\u001b[0m\u001b[0mdefunct\u001b[0m\u001b[0;34m(\u001b[0m\u001b[0;34m)\u001b[0m\u001b[0;34m:\u001b[0m\u001b[0;34m\u001b[0m\u001b[0m\n\u001b[1;32m    240\u001b[0m             \u001b[0;32mraise\u001b[0m \u001b[0mself\u001b[0m\u001b[0;34m.\u001b[0m\u001b[0mError\u001b[0m\u001b[0;34m(\u001b[0m\u001b[0;34m\"Failed to write to defunct connection {!r}\"\u001b[0m\u001b[0;34m.\u001b[0m\u001b[0mformat\u001b[0m\u001b[0;34m(\u001b[0m\u001b[0mself\u001b[0m\u001b[0;34m.\u001b[0m\u001b[0mserver\u001b[0m\u001b[0;34m.\u001b[0m\u001b[0maddress\u001b[0m\u001b[0;34m)\u001b[0m\u001b[0;34m)\u001b[0m\u001b[0;34m\u001b[0m\u001b[0m\n",
      "\u001b[0;31mServiceUnavailable\u001b[0m: Failed to write to closed connection Address(host='127.0.0.1', port=7687)"
     ]
    }
   ],
   "source": [
    "with driver.session() as session:\n",
    "    for k,item in data.iterrows():\n",
    "        for version in item['version']:\n",
    "            session.write_transaction(add_cve_relation, version, item[\"product\"], item[\"CVE\"])\n",
    "            "
   ]
  },
  {
   "cell_type": "code",
   "execution_count": null,
   "metadata": {},
   "outputs": [],
   "source": []
  }
 ],
 "metadata": {
  "kernelspec": {
   "display_name": "Python 3",
   "language": "python",
   "name": "python3"
  },
  "language_info": {
   "codemirror_mode": {
    "name": "ipython",
    "version": 3
   },
   "file_extension": ".py",
   "mimetype": "text/x-python",
   "name": "python",
   "nbconvert_exporter": "python",
   "pygments_lexer": "ipython3",
   "version": "3.6.5"
  }
 },
 "nbformat": 4,
 "nbformat_minor": 2
}
